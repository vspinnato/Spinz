{
    "nbformat_minor": 1, 
    "cells": [
        {
            "source": "# Capstone Project - The Battle of Neighborhoods\n", 
            "cell_type": "markdown", 
            "metadata": {
                "collapsed": true
            }
        }, 
        {
            "source": "## Introduction", 
            "cell_type": "markdown", 
            "metadata": {}
        }, 
        {
            "source": "New York City (\"NYC\") is the most densely populated major city in the U.S. with an estimated 8.4 million residents as of July 2018.  NYC's population is about 43% of New York State's population. NYC is often referred to as the five boroughs, and in turn, there are hundreds of distinct neighborhoods throughout the boroughs, many with a definable history and character to call their own. If the boroughs were each independent cities, four of the boroughs (Brooklyn, Queens, Manhattan, and the Bronx) would be among the ten most populous cities in the United States.\n\nThroughout its history, New York City has been a major point of entry for immigrants. The term \"melting pot\" was coined to describe densely populated immigrant neighborhoods on the Lower East Side of Manhattan. Approximately 37% of the city's population is foreign born where no single country or region of origin dominates. The ten largest sources of foreign-born individuals in the city as of 2011 were the Dominican Republic, China, Mexico, Guyana, Jamaica, Ecuador, Haiti, India, Russia, and Trinidad and Tobago. New York contains the highest total Asian population of any U.S. city proper, exceeding more than one million. The Chinese population constitutes the fastest-growing nationality in New York State. \n\nAs one would expect, given its diverse culture, New York City's food scene includes an array of international cuisines influenced by its immigrant history. They range from Central and Eastern European, Middle Eastern, Indian, Italian, and Chinese to name just a few. \n\nThis project will explore the many neighborhoods of New York City to visualize and identify the ones with the best Chinese restaurants. ", 
            "cell_type": "markdown", 
            "metadata": {}
        }, 
        {
            "source": "## Data", 
            "cell_type": "markdown", 
            "metadata": {}
        }, 
        {
            "source": "This Project will require the following data:\n\n    1. New York City data that contains a list of Boroughs and Neighborhoods along with their latitutde and longitude coordinates\n       a. Data Source: https://cocl.us/new_york_dataset\n       b. Description: We will use this data set to explore various neighborhoods of New York City\n    2. Chinese restaurants in each New York City neighborhood\n       a. Data Source: Foursquare API\n       b. Description: We will use the API to identify the venues in each neighborhood and filter these venues for Chinese restaurants.\n    3. GeoSpace Data\n       a. Data Source: https://data.cityofnewyork.us/City-Government/Borough-Boundaries/tqmj-j8zm\n       b. Description: By using the geo space data we will be able to identify the New York Borough boundaries which will help us visualize a choropleth map.", 
            "cell_type": "markdown", 
            "metadata": {}
        }, 
        {
            "source": "## Approach", 
            "cell_type": "markdown", 
            "metadata": {}
        }, 
        {
            "source": "    1. Collect the New York City data from htpps://cocl.us/new_york_dataset\n    2. Use Foursquare API to find all venues for each neighborhood.\n    3. Filter venues for Chinese restaurants.\n    4. Find Ratings, Tips, and Like counts for each Chinese restaurant using the Foursquare API.\n    5. Use ratings for each restaurant to sort the data.\n    6. Use Python's Folium library to visualize the ranking of the neighborhoods.", 
            "cell_type": "markdown", 
            "metadata": {}
        }, 
        {
            "source": "## Questions to be answered with the analysis", 
            "cell_type": "markdown", 
            "metadata": {}
        }, 
        {
            "source": "    1. Which New York City neighborhood has the most Chinese restaurants?\n    2. Which neighborhood has the best rated Chinese restaurants?\n    3. Where to live in New York City if you enjoy Chinese food?", 
            "cell_type": "markdown", 
            "metadata": {}
        }, 
        {
            "execution_count": null, 
            "cell_type": "code", 
            "metadata": {}, 
            "outputs": [], 
            "source": ""
        }
    ], 
    "metadata": {
        "kernelspec": {
            "display_name": "Python 3.6", 
            "name": "python3", 
            "language": "python"
        }, 
        "language_info": {
            "mimetype": "text/x-python", 
            "nbconvert_exporter": "python", 
            "version": "3.6.8", 
            "name": "python", 
            "file_extension": ".py", 
            "pygments_lexer": "ipython3", 
            "codemirror_mode": {
                "version": 3, 
                "name": "ipython"
            }
        }
    }, 
    "nbformat": 4
}